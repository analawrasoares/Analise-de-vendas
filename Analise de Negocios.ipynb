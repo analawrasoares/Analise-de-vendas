{
 "cells": [
  {
   "cell_type": "code",
   "execution_count": null,
   "metadata": {},
   "outputs": [],
   "source": [
    "# Importando bibliotecas\n",
    "import pandas as pd\n",
    "import matplotlib.pyplot as plt\n",
    "import seaborn as sns\n",
    "%matplotlib inline"
   ]
  },
  {
   "cell_type": "code",
   "execution_count": null,
   "metadata": {},
   "outputs": [],
   "source": [
    "#importando banco de dados\n",
    "df = pd.read_excel('superstore_sales.xlsx')"
   ]
  },
  {
   "cell_type": "code",
   "execution_count": null,
   "metadata": {},
   "outputs": [],
   "source": [
    "#verificando as primeiras 5 linhas do banco de dados\n",
    "df.head(5)"
   ]
  },
  {
   "cell_type": "code",
   "execution_count": null,
   "metadata": {},
   "outputs": [],
   "source": [
    "df.info()"
   ]
  },
  {
   "cell_type": "code",
   "execution_count": null,
   "metadata": {},
   "outputs": [],
   "source": [
    "#Alterando nome das colunas\n",
    "df.rename(columns={\"order_id\": \"pedido_id\", \"order_date\": \"data_pedido\", \"ship_date\":\"data_envio\",\"ship_mode\":\"mode_envio\",\"customer_name\":\"nome_cliente\",\"segment\":\"seguimento\",\"state\":\"estado\",\"country\":\"pais\",\"market\":\"mercado\",\"region\":\"regiao\",\"product_id\":\"produto_id\",\"category\":\"categoria\",\"sub_category\":\"sub_categoria\",\"product_name\":\"nome_produto\",\"sales\":\"vendas\",\"quantity\":\"quantidade\",\"discount\":\"disconto\",\"profit\":\"lucro\",\"shipping_cost\":\"custo_envio\",\"order_priority\":\"pedido_prioridade\",\"year\":\"ano\"},inplace=True)"
   ]
  },
  {
   "cell_type": "code",
   "execution_count": null,
   "metadata": {},
   "outputs": [],
   "source": [
    "df.info()"
   ]
  },
  {
   "cell_type": "code",
   "execution_count": null,
   "metadata": {},
   "outputs": [],
   "source": [
    "#Verificando se existe valores nulos no banco\n",
    "df.isnull().sum()"
   ]
  },
  {
   "cell_type": "markdown",
   "metadata": {},
   "source": [
    "#### Verificando Tendencia de vendas"
   ]
  },
  {
   "cell_type": "code",
   "execution_count": null,
   "metadata": {},
   "outputs": [],
   "source": [
    "#Data minima e data maxima das vendas\n",
    "df['data_pedido'].min()"
   ]
  },
  {
   "cell_type": "code",
   "execution_count": null,
   "metadata": {},
   "outputs": [],
   "source": [
    "df['data_pedido'].max()"
   ]
  },
  {
   "cell_type": "code",
   "execution_count": null,
   "metadata": {},
   "outputs": [],
   "source": [
    "#Pegando meses e anos do banco\n",
    "df['mes_ano'] = df['data_pedido'].apply(lambda x: x.strftime('%Y-%m'))"
   ]
  },
  {
   "cell_type": "code",
   "execution_count": null,
   "metadata": {},
   "outputs": [],
   "source": [
    "#Agrupando os dados de Anos e Meses\n",
    "df_group = df.groupby('mes_ano').sum()['vendas'].reset_index()"
   ]
  },
  {
   "cell_type": "code",
   "execution_count": null,
   "metadata": {},
   "outputs": [],
   "source": [
    "#Visualização dos dados Anos/Meses por vendas\n",
    "plt.figure(figsize=(10,5))\n",
    "plt.plot(df_group['mes_ano'],df_group['vendas'])\n",
    "plt.xticks(rotation='vertical', size=8)\n",
    "plt.show()"
   ]
  },
  {
   "cell_type": "markdown",
   "metadata": {},
   "source": [
    "#### Os 10 Produtos em vendas"
   ]
  },
  {
   "cell_type": "code",
   "execution_count": null,
   "metadata": {},
   "outputs": [],
   "source": [
    "#Agrupando produtos e vendas\n",
    "prod_vendas = pd.DataFrame(df.groupby('nome_produto').sum()['vendas'])"
   ]
  },
  {
   "cell_type": "code",
   "execution_count": null,
   "metadata": {},
   "outputs": [],
   "source": [
    "#Selecionando os produtos por vendas\n",
    "prod_vendas = prod_vendas.sort_values('vendas', ascending=False)"
   ]
  },
  {
   "cell_type": "code",
   "execution_count": null,
   "metadata": {},
   "outputs": [],
   "source": [
    "#Visualizando os 10 produtos por vendas\n",
    "prod_vendas[:10]"
   ]
  },
  {
   "cell_type": "markdown",
   "metadata": {},
   "source": [
    "#### Os 10 Produtos mais vendidos"
   ]
  },
  {
   "cell_type": "code",
   "execution_count": null,
   "metadata": {},
   "outputs": [],
   "source": [
    "#Agrupando produtos por quantidade\n",
    "prod_mais_vendido = pd.DataFrame(df.groupby('nome_produto').sum()['quantidade'])"
   ]
  },
  {
   "cell_type": "code",
   "execution_count": null,
   "metadata": {},
   "outputs": [],
   "source": [
    "#Listando produtos\n",
    "prod_mais_vendido = prod_mais_vendido.sort_values('quantidade',ascending=False)"
   ]
  },
  {
   "cell_type": "code",
   "execution_count": null,
   "metadata": {},
   "outputs": [],
   "source": [
    "prod_mais_vendido[:10]"
   ]
  },
  {
   "cell_type": "markdown",
   "metadata": {},
   "source": [
    "#### O modo mais escolhido de envio"
   ]
  },
  {
   "cell_type": "code",
   "execution_count": null,
   "metadata": {},
   "outputs": [],
   "source": [
    "# Alterando tamanho da figura do grafico\n",
    "plt.figure(figsize=(10, 6))\n",
    "\n",
    "# countplot: Mostra a contagem de observações de cada categoria\n",
    "sns.countplot(x='modo_envio', data=df)\n",
    "plt.show()"
   ]
  },
  {
   "cell_type": "markdown",
   "metadata": {},
   "source": [
    "#### A categoria e sub-categoria mais rentavel "
   ]
  },
  {
   "cell_type": "code",
   "execution_count": null,
   "metadata": {},
   "outputs": [],
   "source": [
    "#Agrupando Categoria e subcategoria\n",
    "cat_subcat_profit = pd.DataFrame(df.groupby(['categoria', 'sub_categoria']).sum()['lucro'])"
   ]
  },
  {
   "cell_type": "code",
   "execution_count": null,
   "metadata": {},
   "outputs": [],
   "source": [
    "cat_subcat_profit.sort_values(['categoria','lucro'],ascending=False)"
   ]
  },
  {
   "cell_type": "code",
   "execution_count": null,
   "metadata": {},
   "outputs": [],
   "source": []
  }
 ],
 "metadata": {
  "kernelspec": {
   "display_name": "Python 3",
   "language": "python",
   "name": "python3"
  },
  "language_info": {
   "codemirror_mode": {
    "name": "ipython",
    "version": 3
   },
   "file_extension": ".py",
   "mimetype": "text/x-python",
   "name": "python",
   "nbconvert_exporter": "python",
   "pygments_lexer": "ipython3",
   "version": "3.8.5"
  }
 },
 "nbformat": 4,
 "nbformat_minor": 4
}
